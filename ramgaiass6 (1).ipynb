{
 "cells": [
  {
   "cell_type": "markdown",
   "id": "4fac9c08-0d64-4bb6-a671-7b9260ce7e8e",
   "metadata": {},
   "source": [
    "### Assignment 6\n",
    "### Rachana Amgai\n",
    "### 10/2/2024"
   ]
  },
  {
   "cell_type": "code",
   "execution_count": null,
   "id": "42534696-260a-4cc2-ac01-e31428e88dd9",
   "metadata": {},
   "outputs": [],
   "source": [
    "import numpy as np"
   ]
  },
  {
   "cell_type": "markdown",
   "id": "01cb815f-fa03-4f15-8378-9d5679186505",
   "metadata": {},
   "source": [
    "#### 1. Part 1 and 2:"
   ]
  },
  {
   "cell_type": "code",
   "execution_count": null,
   "id": "2b414b59-8e1d-43af-b7f0-751cbe71e55f",
   "metadata": {},
   "outputs": [],
   "source": [
    "-Designed a function that scales a vector based on the given methods: min_max or z_score. If\n",
    "statements are created to determine the method. Default will be min_max.\n",
    "-Based on the paremeter, the function will scale the values to a range between 0 and 1 or calculate\n",
    "the mean and normalized standard deviation of the vector\n",
    "-If there is an invalid method then an error will be raised"
   ]
  },
  {
   "cell_type": "code",
   "execution_count": 70,
   "id": "0cb07989-2de4-4f83-8701-38ed69ce7fef",
   "metadata": {},
   "outputs": [],
   "source": [
    "import numpy as np\n",
    "\n",
    "def normalize_vector(vector, method='min_max'):\n",
    "    \n",
    "    if method == 'min_max':\n",
    "        # Min-Max Normalization\n",
    "        min_val = np.min(vector)\n",
    "        max_val = np.max(vector)\n",
    "        normalized = (vector - min_val) / (max_val - min_val)\n",
    "        \n",
    "    elif method == 'z_score':\n",
    "        # Z-score Normalization\n",
    "        mean = np.mean(vector)\n",
    "        std = np.std(vector)\n",
    "        normalized = (vector - mean) / std\n",
    "        \n",
    "    else:\n",
    "        raise ValueError(\"Invalid method. Choose 'min_max' or 'z_score'.\")\n",
    "        \n",
    "    return normalized\n"
   ]
  },
  {
   "cell_type": "code",
   "execution_count": 81,
   "id": "65c49655-c9b1-4d06-ab61-60019f9b9851",
   "metadata": {},
   "outputs": [
    {
     "name": "stdout",
     "output_type": "stream",
     "text": [
      "Min-Max Normalized: [0.   0.25 0.5  0.75 1.  ]\n"
     ]
    }
   ],
   "source": [
    "vector1 = [1, 2, 3, 4, 5]\n",
    "vector2 = [-2, -1, 0, 1, 2]\n",
    "# Min-Max Normalization\n",
    "normalized_min_max = normalize_vector(vector1, method='min_max')\n",
    "print(\"Min-Max Normalized:\", normalized_min_max)                     \n",
    "    "
   ]
  },
  {
   "cell_type": "code",
   "execution_count": 31,
   "id": "ed88696f-552d-47bd-aa41-d79b68a8d5a5",
   "metadata": {},
   "outputs": [
    {
     "name": "stdout",
     "output_type": "stream",
     "text": [
      "Z-score: [-1.41421356 -0.70710678  0.          0.70710678  1.41421356]\n"
     ]
    }
   ],
   "source": [
    "# Z-score Normalization\n",
    "z_score = normalize_vector(vector2, method='z_score')\n",
    "print(\"Z-score:\", z_score)"
   ]
  },
  {
   "cell_type": "markdown",
   "id": "44326d57-130c-4337-8c8f-4d8d6993b12f",
   "metadata": {},
   "source": [
    "### 2 Part 3 - in order:"
   ]
  },
  {
   "cell_type": "code",
   "execution_count": null,
   "id": "567b0956-2023-4b06-be71-6812420784fd",
   "metadata": {},
   "outputs": [],
   "source": [
    "-Import statement and reading in data\n",
    "-A.) Length of rows is 20640\n",
    "-B.) Target vector for model is the median_house_value\n",
    "-C.) It represents the average number of bedrooms per household\n",
    "-D.) New data frame is called df2 that holds the median age, the median income, and the new\n",
    "feature\n",
    "-E.) Using the function created in part 1 and 2 to find the z-score for each feature of the new df2\n",
    "data frame"
   ]
  },
  {
   "cell_type": "code",
   "execution_count": 83,
   "id": "08b2c204-ce83-4beb-aa0a-eb710e57aa81",
   "metadata": {},
   "outputs": [
    {
     "data": {
      "text/html": [
       "<div>\n",
       "<style scoped>\n",
       "    .dataframe tbody tr th:only-of-type {\n",
       "        vertical-align: middle;\n",
       "    }\n",
       "\n",
       "    .dataframe tbody tr th {\n",
       "        vertical-align: top;\n",
       "    }\n",
       "\n",
       "    .dataframe thead th {\n",
       "        text-align: right;\n",
       "    }\n",
       "</style>\n",
       "<table border=\"1\" class=\"dataframe\">\n",
       "  <thead>\n",
       "    <tr style=\"text-align: right;\">\n",
       "      <th></th>\n",
       "      <th>housing_median_age</th>\n",
       "      <th>total_bedrooms</th>\n",
       "      <th>households</th>\n",
       "      <th>median_income</th>\n",
       "      <th>median_house_value</th>\n",
       "    </tr>\n",
       "  </thead>\n",
       "  <tbody>\n",
       "    <tr>\n",
       "      <th>0</th>\n",
       "      <td>41</td>\n",
       "      <td>129.0</td>\n",
       "      <td>126</td>\n",
       "      <td>8.3252</td>\n",
       "      <td>452600.0</td>\n",
       "    </tr>\n",
       "  </tbody>\n",
       "</table>\n",
       "</div>"
      ],
      "text/plain": [
       "   housing_median_age  total_bedrooms  households  median_income  \\\n",
       "0                  41           129.0         126         8.3252   \n",
       "\n",
       "   median_house_value  \n",
       "0            452600.0  "
      ]
     },
     "execution_count": 83,
     "metadata": {},
     "output_type": "execute_result"
    }
   ],
   "source": [
    "import pandas as pd\n",
    "df = pd.read_csv(r\"E:\\Rachana Bellevue\\calif_housing_data.csv\")\n",
    "df.head(1)"
   ]
  },
  {
   "cell_type": "code",
   "execution_count": 85,
   "id": "2a99714c-8434-4434-bafd-b7b59dad7ae7",
   "metadata": {},
   "outputs": [
    {
     "data": {
      "text/plain": [
       "20640"
      ]
     },
     "execution_count": 85,
     "metadata": {},
     "output_type": "execute_result"
    }
   ],
   "source": [
    "#length of rows\n",
    "len(df)"
   ]
  },
  {
   "cell_type": "code",
   "execution_count": 87,
   "id": "8f237057-79d2-4fed-9973-5a9abf5b407a",
   "metadata": {},
   "outputs": [
    {
     "data": {
      "text/html": [
       "<div>\n",
       "<style scoped>\n",
       "    .dataframe tbody tr th:only-of-type {\n",
       "        vertical-align: middle;\n",
       "    }\n",
       "\n",
       "    .dataframe tbody tr th {\n",
       "        vertical-align: top;\n",
       "    }\n",
       "\n",
       "    .dataframe thead th {\n",
       "        text-align: right;\n",
       "    }\n",
       "</style>\n",
       "<table border=\"1\" class=\"dataframe\">\n",
       "  <thead>\n",
       "    <tr style=\"text-align: right;\">\n",
       "      <th></th>\n",
       "      <th>housing_median_age</th>\n",
       "      <th>total_bedrooms</th>\n",
       "      <th>households</th>\n",
       "      <th>median_income</th>\n",
       "      <th>median_house_value</th>\n",
       "      <th>avg_num_bedrooms_per_household</th>\n",
       "    </tr>\n",
       "  </thead>\n",
       "  <tbody>\n",
       "    <tr>\n",
       "      <th>0</th>\n",
       "      <td>41</td>\n",
       "      <td>129.0</td>\n",
       "      <td>126</td>\n",
       "      <td>8.3252</td>\n",
       "      <td>452600.0</td>\n",
       "      <td>1.02381</td>\n",
       "    </tr>\n",
       "    <tr>\n",
       "      <th>1</th>\n",
       "      <td>21</td>\n",
       "      <td>1106.0</td>\n",
       "      <td>1138</td>\n",
       "      <td>8.3014</td>\n",
       "      <td>358500.0</td>\n",
       "      <td>0.97188</td>\n",
       "    </tr>\n",
       "  </tbody>\n",
       "</table>\n",
       "</div>"
      ],
      "text/plain": [
       "   housing_median_age  total_bedrooms  households  median_income  \\\n",
       "0                  41           129.0         126         8.3252   \n",
       "1                  21          1106.0        1138         8.3014   \n",
       "\n",
       "   median_house_value  avg_num_bedrooms_per_household  \n",
       "0            452600.0                         1.02381  \n",
       "1            358500.0                         0.97188  "
      ]
     },
     "execution_count": 87,
     "metadata": {},
     "output_type": "execute_result"
    }
   ],
   "source": [
    "#finding the average bedroom per household\n",
    "df[\"avg_num_bedrooms_per_household\"] = df.total_bedrooms / df.households\n",
    "df.head(2)"
   ]
  },
  {
   "cell_type": "code",
   "execution_count": 46,
   "id": "4879dbb5-72c1-441b-9ca9-bfa15a8190d3",
   "metadata": {},
   "outputs": [
    {
     "data": {
      "text/html": [
       "<div>\n",
       "<style scoped>\n",
       "    .dataframe tbody tr th:only-of-type {\n",
       "        vertical-align: middle;\n",
       "    }\n",
       "\n",
       "    .dataframe tbody tr th {\n",
       "        vertical-align: top;\n",
       "    }\n",
       "\n",
       "    .dataframe thead th {\n",
       "        text-align: right;\n",
       "    }\n",
       "</style>\n",
       "<table border=\"1\" class=\"dataframe\">\n",
       "  <thead>\n",
       "    <tr style=\"text-align: right;\">\n",
       "      <th></th>\n",
       "      <th>housing_median_age</th>\n",
       "      <th>median_income</th>\n",
       "      <th>avg_num_bedrooms_per_household</th>\n",
       "    </tr>\n",
       "  </thead>\n",
       "  <tbody>\n",
       "    <tr>\n",
       "      <th>0</th>\n",
       "      <td>41</td>\n",
       "      <td>8.3252</td>\n",
       "      <td>1.02381</td>\n",
       "    </tr>\n",
       "  </tbody>\n",
       "</table>\n",
       "</div>"
      ],
      "text/plain": [
       "   housing_median_age  median_income  avg_num_bedrooms_per_household\n",
       "0                  41         8.3252                         1.02381"
      ]
     },
     "execution_count": 46,
     "metadata": {},
     "output_type": "execute_result"
    }
   ],
   "source": [
    "#new data frame generated including specified columns\n",
    "df2 = pd.DataFrame(df,columns=['housing_median_age','median_income','avg_num_bedrooms_per_household'])\n",
    "df2.head(1)"
   ]
  },
  {
   "cell_type": "code",
   "execution_count": 58,
   "id": "69520135-c6e3-4b1b-897e-dfb5593cd85e",
   "metadata": {},
   "outputs": [],
   "source": [
    "#finding z-score normalization for each feature, returning values into new columns\n",
    "df2[\"z_score_housing_median_age\"] = normalize_vector(df2.housing_median_age, method='z_score')\n",
    "df2[\"z_zcore_median_income\"] = normalize_vector(df2.median_income, method='z_score')\n",
    "df2[\"z_score_avg_num_bedrooms_per_household\"] = normalize_vector(df2.avg_num_bedrooms_per_household, method='z_score')"
   ]
  },
  {
   "cell_type": "code",
   "execution_count": 60,
   "id": "1de4ceb3-0ffc-4a20-94e7-588ca6e1281c",
   "metadata": {},
   "outputs": [
    {
     "data": {
      "text/html": [
       "<div>\n",
       "<style scoped>\n",
       "    .dataframe tbody tr th:only-of-type {\n",
       "        vertical-align: middle;\n",
       "    }\n",
       "\n",
       "    .dataframe tbody tr th {\n",
       "        vertical-align: top;\n",
       "    }\n",
       "\n",
       "    .dataframe thead th {\n",
       "        text-align: right;\n",
       "    }\n",
       "</style>\n",
       "<table border=\"1\" class=\"dataframe\">\n",
       "  <thead>\n",
       "    <tr style=\"text-align: right;\">\n",
       "      <th></th>\n",
       "      <th>housing_median_age</th>\n",
       "      <th>median_income</th>\n",
       "      <th>avg_num_bedrooms_per_household</th>\n",
       "      <th>z_score_housing_median_age</th>\n",
       "      <th>z_zcore_median_income</th>\n",
       "      <th>z_score_avg_num_bedrooms_per_household</th>\n",
       "    </tr>\n",
       "  </thead>\n",
       "  <tbody>\n",
       "    <tr>\n",
       "      <th>0</th>\n",
       "      <td>41</td>\n",
       "      <td>8.3252</td>\n",
       "      <td>1.023810</td>\n",
       "      <td>0.982143</td>\n",
       "      <td>2.344766</td>\n",
       "      <td>-0.153863</td>\n",
       "    </tr>\n",
       "    <tr>\n",
       "      <th>1</th>\n",
       "      <td>21</td>\n",
       "      <td>8.3014</td>\n",
       "      <td>0.971880</td>\n",
       "      <td>-0.607019</td>\n",
       "      <td>2.332238</td>\n",
       "      <td>-0.262936</td>\n",
       "    </tr>\n",
       "    <tr>\n",
       "      <th>2</th>\n",
       "      <td>52</td>\n",
       "      <td>7.2574</td>\n",
       "      <td>1.073446</td>\n",
       "      <td>1.856182</td>\n",
       "      <td>1.782699</td>\n",
       "      <td>-0.049604</td>\n",
       "    </tr>\n",
       "  </tbody>\n",
       "</table>\n",
       "</div>"
      ],
      "text/plain": [
       "   housing_median_age  median_income  avg_num_bedrooms_per_household  \\\n",
       "0                  41         8.3252                        1.023810   \n",
       "1                  21         8.3014                        0.971880   \n",
       "2                  52         7.2574                        1.073446   \n",
       "\n",
       "   z_score_housing_median_age  z_zcore_median_income  \\\n",
       "0                    0.982143               2.344766   \n",
       "1                   -0.607019               2.332238   \n",
       "2                    1.856182               1.782699   \n",
       "\n",
       "   z_score_avg_num_bedrooms_per_household  \n",
       "0                               -0.153863  \n",
       "1                               -0.262936  \n",
       "2                               -0.049604  "
      ]
     },
     "execution_count": 60,
     "metadata": {},
     "output_type": "execute_result"
    }
   ],
   "source": [
    "df2.head(3)"
   ]
  },
  {
   "cell_type": "code",
   "execution_count": null,
   "id": "5af0f549-b5b1-492d-bd4a-26eba5a9e513",
   "metadata": {},
   "outputs": [],
   "source": []
  }
 ],
 "metadata": {
  "kernelspec": {
   "display_name": "Python 3 (ipykernel)",
   "language": "python",
   "name": "python3"
  },
  "language_info": {
   "codemirror_mode": {
    "name": "ipython",
    "version": 3
   },
   "file_extension": ".py",
   "mimetype": "text/x-python",
   "name": "python",
   "nbconvert_exporter": "python",
   "pygments_lexer": "ipython3",
   "version": "3.12.4"
  }
 },
 "nbformat": 4,
 "nbformat_minor": 5
}
